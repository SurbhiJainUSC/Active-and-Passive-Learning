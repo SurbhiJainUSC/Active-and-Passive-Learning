{
 "cells": [
  {
   "cell_type": "code",
   "execution_count": 1,
   "metadata": {},
   "outputs": [],
   "source": [
    "import pandas as pd\n",
    "import numpy as np\n",
    "import urllib\n",
    "import operator\n",
    "from sklearn import preprocessing\n",
    "from beautifultable import BeautifulTable\n",
    "from matplotlib import pyplot as plt\n",
    "from sklearn.svm import LinearSVC\n",
    "from sklearn.model_selection import train_test_split, GridSearchCV, KFold\n",
    "from sklearn.metrics import accuracy_score, roc_curve, auc\n",
    "from sklearn.metrics.pairwise import euclidean_distances\n",
    "import warnings\n",
    "warnings.filterwarnings(\"ignore\")"
   ]
  },
  {
   "cell_type": "code",
   "execution_count": 2,
   "metadata": {},
   "outputs": [],
   "source": [
    "def printDatainTable(tableHeaders, tableData):\n",
    "    table = BeautifulTable(max_width=100)\n",
    "    table.set_style(BeautifulTable.STYLE_SEPARATED)\n",
    "    if len(tableHeaders)!=0:\n",
    "        table.column_headers = tableHeaders\n",
    "    for i in range(0, len(tableData)):\n",
    "        table.append_row(tableData[i])\n",
    "    print(table)"
   ]
  },
  {
   "cell_type": "markdown",
   "metadata": {},
   "source": [
    "# Read data and divide into training and testing set."
   ]
  },
  {
   "cell_type": "code",
   "execution_count": 3,
   "metadata": {},
   "outputs": [],
   "source": [
    "bankDataURL = 'https://raw.githubusercontent.com/SurbhiJainUSC/Active-and-Passive-Learning/master/data_banknote_authentication.txt'\n",
    "bankFeatures = ['variance', 'skewness', 'curtosis', 'entropy']\n",
    "bankColumnNames = bankFeatures[:]\n",
    "bankColumnNames.append('class')"
   ]
  },
  {
   "cell_type": "code",
   "execution_count": 4,
   "metadata": {},
   "outputs": [
    {
     "name": "stdout",
     "output_type": "stream",
     "text": [
      "------------------------------------------------\n",
      "First 5 observations\n",
      "------------------------------------------------\n",
      "   variance  skewness  curtosis  entropy  class\n",
      "0   3.62160    8.6661   -2.8073 -0.44699      0\n",
      "1   4.54590    8.1674   -2.4586 -1.46210      0\n",
      "2   3.86600   -2.6383    1.9242  0.10645      0\n",
      "3   3.45660    9.5228   -4.0112 -3.59440      0\n",
      "4   0.32924   -4.4552    4.5718 -0.98880      0\n"
     ]
    }
   ],
   "source": [
    "bankData = pd.read_csv(bankDataURL, names=bankColumnNames)\n",
    "print('------------------------------------------------')\n",
    "print('First 5 observations')\n",
    "print('------------------------------------------------')\n",
    "print(bankData.head())"
   ]
  },
  {
   "cell_type": "code",
   "execution_count": 5,
   "metadata": {},
   "outputs": [],
   "source": [
    "minMaxScaler = preprocessing.MinMaxScaler()\n",
    "normalizedBankData = minMaxScaler.fit_transform(bankData[bankFeatures])\n",
    "normalizedBankData = pd.DataFrame(normalizedBankData, columns=bankFeatures)\n",
    "normalizedBankData = pd.concat([normalizedBankData, bankData['class']], axis=1)"
   ]
  },
  {
   "cell_type": "code",
   "execution_count": 6,
   "metadata": {},
   "outputs": [],
   "source": [
    "bankTrainData, bankTestData = train_test_split(normalizedBankData, train_size=900)"
   ]
  },
  {
   "cell_type": "code",
   "execution_count": 7,
   "metadata": {},
   "outputs": [
    {
     "name": "stdout",
     "output_type": "stream",
     "text": [
      "------------------------------------------------\n",
      "Total train observations: 900\n",
      "First 5 train observations:\n",
      "------------------------------------------------\n",
      "      variance  skewness  curtosis   entropy  class\n",
      "680   0.756377  0.625784  0.271962  0.826927      0\n",
      "21    0.531575  0.348662  0.424662  0.687362      0\n",
      "44    0.713800  0.774216  0.193524  0.821284      0\n",
      "1262  0.435360  0.518544  0.217111  0.818815      1\n",
      "202   0.451089  0.873327  0.064592  0.095002      0\n"
     ]
    }
   ],
   "source": [
    "print('------------------------------------------------')\n",
    "print('Total train observations:', bankTrainData.shape[0])\n",
    "print('First 5 train observations:')\n",
    "print('------------------------------------------------')\n",
    "print(bankTrainData.head())"
   ]
  },
  {
   "cell_type": "code",
   "execution_count": 8,
   "metadata": {},
   "outputs": [
    {
     "name": "stdout",
     "output_type": "stream",
     "text": [
      "------------------------------------------------\n",
      "Total test observations: 472\n",
      "First 5 test observations:\n",
      "------------------------------------------------\n",
      "      variance  skewness  curtosis   entropy  class\n",
      "700   0.790970  0.741000  0.140888  0.771313      0\n",
      "1369  0.237385  0.011768  0.985603  0.524755      1\n",
      "502   0.652431  0.258536  0.578030  0.755440      0\n",
      "1020  0.158860  0.765157  0.217258  0.179192      1\n",
      "1243  0.142389  0.321253  0.676878  0.698414      1\n"
     ]
    }
   ],
   "source": [
    "print('------------------------------------------------')\n",
    "print('Total test observations:', bankTestData.shape[0])\n",
    "print('First 5 test observations:')\n",
    "print('------------------------------------------------')\n",
    "print(bankTestData.head())"
   ]
  },
  {
   "cell_type": "markdown",
   "metadata": {},
   "source": [
    "# Passive Learning."
   ]
  },
  {
   "cell_type": "code",
   "execution_count": 9,
   "metadata": {},
   "outputs": [],
   "source": [
    "passiveTestErrors = {}\n",
    "for i in range(0, 50):\n",
    "    bankTrainDataCopy = bankTrainData\n",
    "    sampledTrainData = pd.DataFrame()\n",
    "    class0TrainData = bankTrainDataCopy.loc[bankTrainDataCopy['class'] == 0].sample(n=5)\n",
    "    class1TrainData = bankTrainDataCopy.loc[bankTrainDataCopy['class'] == 1].sample(n=5)\n",
    "    sampledData = pd.concat([class0TrainData, class1TrainData], axis=0)\n",
    "    \n",
    "    for j in range(0, 90):\n",
    "        sampledTrainData = pd.concat([sampledTrainData, sampledData], axis=0)\n",
    "        for rowIdx in sampledData.index:\n",
    "            bankTrainDataCopy = bankTrainDataCopy.drop(index=rowIdx)\n",
    "            \n",
    "        CRange = np.logspace(-1, 4, 20)\n",
    "        l1SVMModel = LinearSVC(penalty='l1', dual=False)\n",
    "        l1Parameters = {'C':CRange}\n",
    "        l1GridModel = GridSearchCV(l1SVMModel, l1Parameters, cv=KFold(10))\n",
    "        \n",
    "        l1GridModel = l1GridModel.fit(sampledTrainData[bankFeatures], sampledTrainData['class'])\n",
    "        \n",
    "        predictedTestClass = l1GridModel.predict(bankTestData[bankFeatures])\n",
    "    \n",
    "        testAccuracy = accuracy_score(predictedTestClass, bankTestData['class'])\n",
    "        testAccuracy = round(testAccuracy, 3)\n",
    "        testError = round(1 - testAccuracy, 3)\n",
    "        \n",
    "        if (j*10+10) in passiveTestErrors.keys():\n",
    "            passiveTestErrors[j*10+10] += testError\n",
    "        else:\n",
    "            passiveTestErrors[j*10+10] = testError\n",
    "            \n",
    "        if len(bankTrainDataCopy)!=0:\n",
    "            sampledData = pd.DataFrame()\n",
    "            sampledData = bankTrainDataCopy.sample(10)\n",
    "            \n",
    "for k,v in passiveTestErrors.items():\n",
    "    passiveTestErrors[k] = round(v/50, 3)"
   ]
  },
  {
   "cell_type": "code",
   "execution_count": 10,
   "metadata": {},
   "outputs": [
    {
     "data": {
      "image/png": "[encoded data removed]",
      "text/plain": [
       "<Figure size 432x288 with 1 Axes>"
      ]
     },
     "metadata": {
      "needs_background": "light"
     },
     "output_type": "display_data"
    }
   ],
   "source": [
    "plt.title('Average Test Error for Passive Learning')\n",
    "plt.xlabel('Number of Training Instances')\n",
    "plt.ylabel('Average Test Error')\n",
    "plt.plot(passiveTestErrors.keys(), passiveTestErrors.values(), 'b', label=\"Passive learning\")\n",
    "plt.legend()\n",
    "plt.show()"
   ]
  },
  {
   "cell_type": "markdown",
   "metadata": {},
   "source": [
    "# Active Learning."
   ]
  },
  {
   "cell_type": "code",
   "execution_count": 11,
   "metadata": {},
   "outputs": [],
   "source": [
    "activeTestErrors = {}\n",
    "for i in range(0, 50):\n",
    "    bankTrainDataCopy = bankTrainData\n",
    "    sampledTrainData = pd.DataFrame()\n",
    "    class0TrainData = bankTrainDataCopy.loc[bankTrainDataCopy['class'] == 0].sample(n=5)\n",
    "    class1TrainData = bankTrainDataCopy.loc[bankTrainDataCopy['class'] == 1].sample(n=5)\n",
    "    sampledData = pd.concat([class0TrainData, class1TrainData], axis=0)\n",
    "    \n",
    "    for j in range(0, 90):\n",
    "        sampledTrainData = pd.concat([sampledTrainData, sampledData], axis=0)\n",
    "        for rowIdx in sampledData.index:\n",
    "            bankTrainDataCopy = bankTrainDataCopy.drop(index=rowIdx)\n",
    "            \n",
    "        CRange = np.logspace(-1, 4, 20)\n",
    "        l1SVMModel = LinearSVC(penalty='l1', dual=False)\n",
    "        l1Parameters = {'C':CRange}\n",
    "        l1GridModel = GridSearchCV(l1SVMModel, l1Parameters, cv=KFold(10))\n",
    "        \n",
    "        l1GridModel = l1GridModel.fit(sampledTrainData[bankFeatures], sampledTrainData['class'])\n",
    "        \n",
    "        if len(bankTrainDataCopy)!=0:\n",
    "            trainDistances = l1GridModel.decision_function(bankTrainDataCopy[bankFeatures])\n",
    "\n",
    "            t = 0\n",
    "            trainDistanceDict = {}\n",
    "            for k in bankTrainDataCopy.index:\n",
    "                trainDistanceDict[k] = round(abs(trainDistances[t]), 3)\n",
    "                t += 1\n",
    "\n",
    "            sortedTrainDistances = sorted(trainDistanceDict.items(), key=operator.itemgetter(1))\n",
    "\n",
    "            sampledData = pd.DataFrame()\n",
    "            for k in range(0, 10):\n",
    "                idx = sortedTrainDistances[k][0]\n",
    "                row = bankTrainDataCopy.loc[idx]\n",
    "                sampledData = sampledData.append([row])\n",
    "            sampledData = pd.DataFrame(sampledData)\n",
    "        \n",
    "        predictedTestClass = l1GridModel.predict(bankTestData[bankFeatures])\n",
    "    \n",
    "        testAccuracy = accuracy_score(predictedTestClass, bankTestData['class'])\n",
    "        testAccuracy = round(testAccuracy, 3)\n",
    "        testError = round(1 - testAccuracy, 3)\n",
    "        \n",
    "        if (j*10+10) in activeTestErrors.keys():\n",
    "            activeTestErrors[j*10+10] += testError\n",
    "        else:\n",
    "            activeTestErrors[j*10+10] = testError\n",
    "            \n",
    "for k, v in activeTestErrors.items():\n",
    "    activeTestErrors[k] = round(v/50, 3)"
   ]
  },
  {
   "cell_type": "code",
   "execution_count": 12,
   "metadata": {},
   "outputs": [
    {
     "data": {
      "image/png": "[encoded data removed]",
      "text/plain": [
       "<Figure size 432x288 with 1 Axes>"
      ]
     },
     "metadata": {
      "needs_background": "light"
     },
     "output_type": "display_data"
    }
   ],
   "source": [
    "plt.title('Average Test Error for Active Learning')\n",
    "plt.xlabel('Number of Training Instances')\n",
    "plt.ylabel('Average Test Error')\n",
    "plt.plot(activeTestErrors.keys(), activeTestErrors.values(), 'r', label=\"Active learning\")\n",
    "plt.legend()\n",
    "plt.show()"
   ]
  },
  {
   "cell_type": "markdown",
   "metadata": {},
   "source": [
    "# Plot average test errors for Active and Passive Learning."
   ]
  },
  {
   "cell_type": "code",
   "execution_count": 13,
   "metadata": {},
   "outputs": [
    {
     "data": {
      "image/png": "[encoded data removed]",
      "text/plain": [
       "<Figure size 432x288 with 1 Axes>"
      ]
     },
     "metadata": {
      "needs_background": "light"
     },
     "output_type": "display_data"
    }
   ],
   "source": [
    "plt.title('Average Test Error for Passive Learning and Active Learning')\n",
    "plt.xlabel('Number of Training Instances')\n",
    "plt.ylabel('Average Test Error')\n",
    "plt.plot(passiveTestErrors.keys(), passiveTestErrors.values(), 'b', label=\"Passive learning\")\n",
    "plt.plot(activeTestErrors.keys(), activeTestErrors.values(), 'r', label=\"Active learning\")\n",
    "plt.legend()\n",
    "plt.show()"
   ]
  },
  {
   "cell_type": "markdown",
   "metadata": {},
   "source": [
    "The average test error decreases rapidly for both active learning and passive learning as the number of training instances increases."
   ]
  }
 ],
 "metadata": {
  "kernelspec": {
   "display_name": "Python 3",
   "language": "python",
   "name": "python3"
  },
  "language_info": {
   "codemirror_mode": {
    "name": "ipython",
    "version": 3
   },
   "file_extension": ".py",
   "mimetype": "text/x-python",
   "name": "python",
   "nbconvert_exporter": "python",
   "pygments_lexer": "ipython3",
   "version": "3.7.3"
  }
 },
 "nbformat": 4,
 "nbformat_minor": 2
}
